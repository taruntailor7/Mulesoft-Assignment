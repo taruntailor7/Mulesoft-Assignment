{
 "cells": [
  {
   "cell_type": "code",
   "execution_count": null,
   "metadata": {},
   "outputs": [],
   "source": [
    "import mysql.connector\n",
    "\n",
    "mydb = mysql.connector.connect(\n",
    "  host=\"localhost\",\n",
    "  user=\"taruntailor\",\n",
    "  password=\"tarun123\",\n",
    "  auth_plugin=\"mysql_native_password\"\n",
    ")\n",
    "\n",
    "mycursor = mydb.cursor()\n",
    "\n",
    "mycursor.execute(\"CREATE DATABASE mule\")\n",
    "\n",
    "mydb = mysql.connector.connect(\n",
    "  host=\"localhost\",\n",
    "  user=\"taruntailor\",\n",
    "  password=\"tarun123\",\n",
    "  auth_plugin=\"mysql_native_password\",\n",
    "  database = \"mule\"\n",
    ")\n",
    "\n",
    "mycursor.execute(\"CREATE TABLE movies (movies VARCHAR(255), actor VARCHAR(255), actress VARCHAR(255), director VARCHAR(255), year INTEGER\");\n",
    "\n",
    "sql = \"INSERT INTO movies (movies, actor, actress, director, year) VALUES (%s, %s, %s, %s, %s)\"\n",
    "\n",
    "val = (\"Phir Hera Pheri\", \"Akshay Kumar\", \"Rimi Sen\", \"Neeraj Vora\", 2006)\n",
    "mycursor.execute(sql, val)\n",
    "print(mycursor.rowcount, \"record inserted.\")\n",
    "\n",
    "val = (\"Pati patni or woh\", \"Kartik Aryan\", \"Ananya pandey\", \"Mudassar Aziz\", 2019)\n",
    "mycursor.execute(sql, val)\n",
    "print(mycursor.rowcount, \"record inserted.\")\n",
    "\n",
    "val = (\"Toofan\", \"Farhan akhtar\", \"Mrunal Thakur\", \"Rakeysh Omprakash Mehra\", 2021)\n",
    "mycursor.execute(sql, val)\n",
    "mydb.commit()\n",
    "\n",
    "print(mycursor.rowcount, \"record inserted.\")\n",
    "\n",
    "mycursor.execute(\"SELECT * FROM movies\")\n",
    "\n",
    "myresult = mycursor.fetchall()\n",
    "\n",
    "for x in myresult:\n",
    "  print(x)\n",
    "\n",
    "mycursor.execute(\"SELECT actor FROM movies where year = 2019\")\n",
    "\n",
    "myresult = mycursor.fetchall()\n",
    "\n",
    "for x in myresult:\n",
    "  print(x)\n"
   ]
  }
 ],
 "metadata": {
  "kernelspec": {
   "display_name": "Python 3",
   "language": "python",
   "name": "python3"
  },
  "language_info": {
   "codemirror_mode": {
    "name": "ipython",
    "version": 3
   },
   "file_extension": ".py",
   "mimetype": "text/x-python",
   "name": "python",
   "nbconvert_exporter": "python",
   "pygments_lexer": "ipython3",
   "version": "3.8.5"
  }
 },
 "nbformat": 4,
 "nbformat_minor": 4
}
