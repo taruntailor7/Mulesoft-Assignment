{
 "cells": [
  {
   "cell_type": "code",
   "execution_count": 1,
   "id": "ab6cd152",
   "metadata": {},
   "outputs": [
    {
     "name": "stdout",
     "output_type": "stream",
     "text": [
      "Requirement already satisfied: mysql in c:\\users\\golde\\anaconda3\\lib\\site-packages (0.0.3)\n",
      "Requirement already satisfied: mysqlclient in c:\\users\\golde\\anaconda3\\lib\\site-packages (from mysql) (2.0.3)\n",
      "Requirement already satisfied: mysql.connector in c:\\users\\golde\\anaconda3\\lib\\site-packages (2.2.9)\n",
      "Requirement already satisfied: mysql-connector-python in c:\\users\\golde\\anaconda3\\lib\\site-packages (8.0.26)\n",
      "Requirement already satisfied: protobuf>=3.0.0 in c:\\users\\golde\\anaconda3\\lib\\site-packages (from mysql-connector-python) (3.17.3)\n",
      "Requirement already satisfied: six>=1.9 in c:\\users\\golde\\anaconda3\\lib\\site-packages (from protobuf>=3.0.0->mysql-connector-python) (1.15.0)\n",
      "('Phir Hera Pheri', 'Akshay Kumar', 'Rimi Sen', 'Neeraj Vora', 2006)\n",
      "('Hum Saath Saath h', 'Salman Khan', 'Karishma Kapoor', 'Sooraj Barjatya', 1999)\n",
      "('Hum Apke Hai Kon', 'Salman Khan', 'Madhuri Dixit', 'Sooraj Barjatya', 1994)\n",
      "('Munna Bhai M.B.B.S.', 'Sanjay Datt', 'Gracy Singh', 'Raj Kumar Hirani', 2003)\n",
      "('Lage Raho Munna Bhai', 'Sanjay Datt', 'Vidhya Balan', 'Raj Kumar Hirani', 2006)\n",
      "('Singham', 'Ajay Devgen', 'Kajal Agarwal', 'Rohit Shetty', 2011)\n",
      "('Singham Returns', 'Ajay Devgen', 'Kareena Kapoor', 'Rohit Shetty', 2014)\n",
      "Akshay Kumar\n",
      "Sanjay Datt\n"
     ]
    }
   ],
   "source": [
    "!pip install mysql\n",
    "!pip install mysql.connector\n",
    "!pip install mysql-connector-python\n",
    "import mysql.connector\n",
    "mydb = mysql.connector.connect(\n",
    "  host=\"localhost\",\n",
    "  user=\"root\",\n",
    "  password=\"Tarun@12\",\n",
    "  auth_plugin=\"mysql_native_password\"\n",
    ")\n",
    "\n",
    "mycursor = mydb.cursor()\n",
    "\n",
    "mycursor.execute(\"DROP DATABASE mulesoft\")\n",
    "mycursor.execute(\"CREATE DATABASE mulesoft\")\n",
    "mycursor.close()\n",
    "\n",
    "mydb = mysql.connector.connect(\n",
    "  host=\"localhost\",\n",
    "  user=\"root\",\n",
    "  password=\"Tarun@12\",\n",
    "  auth_plugin=\"mysql_native_password\",\n",
    "  database = \"mulesoft\"\n",
    ")\n",
    "\n",
    "mycursor = mydb.cursor()\n",
    "mycursor.execute(\"CREATE TABLE movies (movies_name VARCHAR(255), actor_name VARCHAR(255), actress_name VARCHAR(255), director_name VARCHAR(255), year_of_release INTEGER)\");\n",
    "sql = \"INSERT INTO movies (movies_name, actor_name, actress_name, director_name, year_of_release) VALUES (%s, %s, %s, %s, %s)\"\n",
    "val = (\"Phir Hera Pheri\", \"Akshay Kumar\", \"Rimi Sen\", \"Neeraj Vora\", 2006)\n",
    "mycursor.execute(sql, val)\n",
    "\n",
    "val = (\"Hum Saath Saath h\", \"Salman Khan\", \"Karishma Kapoor\", \"Sooraj Barjatya\", 1999)\n",
    "mycursor.execute(sql, val)\n",
    "\n",
    "val = (\"Hum Apke Hai Kon\", \"Salman Khan\", \"Madhuri Dixit\", \"Sooraj Barjatya\", 1994)\n",
    "mycursor.execute(sql, val)\n",
    "\n",
    "val = (\"Munna Bhai M.B.B.S.\", \"Sanjay Datt\", \"Gracy Singh\", \"Raj Kumar Hirani\", 2003)\n",
    "mycursor.execute(sql, val)\n",
    "\n",
    "val = (\"Lage Raho Munna Bhai\", \"Sanjay Datt\", \"Vidhya Balan\", \"Raj Kumar Hirani\", 2006)\n",
    "mycursor.execute(sql, val)\n",
    "\n",
    "val = (\"Singham\", \"Ajay Devgen\", \"Kajal Agarwal\", \"Rohit Shetty\", 2011)\n",
    "mycursor.execute(sql, val)\n",
    "\n",
    "val = (\"Singham Returns\", \"Ajay Devgen\", \"Kareena Kapoor\", \"Rohit Shetty\", 2014)\n",
    "mycursor.execute(sql, val)\n",
    "\n",
    "mydb.commit()\n",
    "mycursor.execute(\"SELECT * FROM movies\")\n",
    "\n",
    "myresult = mycursor.fetchall()\n",
    "\n",
    "for x in myresult:\n",
    "  print(x)\n",
    "mycursor.execute(\"SELECT actor_name FROM movies where year_of_release = 2006\")\n",
    "\n",
    "myresult = mycursor.fetchall()\n",
    "\n",
    "for x in myresult:\n",
    "  print(x[0])"
   ]
  },
  {
   "cell_type": "code",
   "execution_count": null,
   "id": "1fa76dcb",
   "metadata": {},
   "outputs": [],
   "source": []
  },
  {
   "cell_type": "code",
   "execution_count": null,
   "id": "b01ecb09",
   "metadata": {},
   "outputs": [],
   "source": []
  }
 ],
 "metadata": {
  "kernelspec": {
   "display_name": "Python 3",
   "language": "python",
   "name": "python3"
  },
  "language_info": {
   "codemirror_mode": {
    "name": "ipython",
    "version": 3
   },
   "file_extension": ".py",
   "mimetype": "text/x-python",
   "name": "python",
   "nbconvert_exporter": "python",
   "pygments_lexer": "ipython3",
   "version": "3.8.8"
  }
 },
 "nbformat": 4,
 "nbformat_minor": 5
}
