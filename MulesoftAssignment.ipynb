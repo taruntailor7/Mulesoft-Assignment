!pip install mysql
!pip install mysql.connector
!pip install mysql-connector-python
import mysql.connector
mydb = mysql.connector.connect(
  host="localhost",
  user="root",
  password="Tarun@12",
  auth_plugin="mysql_native_password"
)

mycursor = mydb.cursor()

mycursor.execute("DROP DATABASE mulesoft")
mycursor.execute("CREATE DATABASE mulesoft")
mycursor.close()

mydb = mysql.connector.connect(
  host="localhost",
  user="root",
  password="Tarun@12",
  auth_plugin="mysql_native_password",
  database = "mulesoft"
)

mycursor = mydb.cursor()
mycursor.execute("CREATE TABLE movies (movies_name VARCHAR(255), actor_name VARCHAR(255), actress_name VARCHAR(255), director_name VARCHAR(255), year_of_release INTEGER)");
sql = "INSERT INTO movies (movies_name, actor_name, actress_name, director_name, year_of_release) VALUES (%s, %s, %s, %s, %s)"
val = ("Phir Hera Pheri", "Akshay Kumar", "Rimi Sen", "Neeraj Vora", 2006)
mycursor.execute(sql, val)

val = ("Hum Saath Saath h", "Salman Khan", "Karishma Kapoor", "Sooraj Barjatya", 1999)
mycursor.execute(sql, val)

val = ("Hum Apke Hai Kon", "Salman Khan", "Madhuri Dixit", "Sooraj Barjatya", 1994)
mycursor.execute(sql, val)

val = ("Munna Bhai M.B.B.S.", "Sanjay Datt", "Gracy Singh", "Raj Kumar Hirani", 2003)
mycursor.execute(sql, val)

val = ("Lage Raho Munna Bhai", "Sanjay Datt", "Vidhya Balan", "Raj Kumar Hirani", 2006)
mycursor.execute(sql, val)

val = ("Singham", "Ajay Devgen", "Kajal Agarwal", "Rohit Shetty", 2011)
mycursor.execute(sql, val)

val = ("Singham Returns", "Ajay Devgen", "Kareena Kapoor", "Rohit Shetty", 2014)
mycursor.execute(sql, val)

mydb.commit()
mycursor.execute("SELECT * FROM movies")

myresult = mycursor.fetchall()

for x in myresult:
  print(x)
mycursor.execute("SELECT actor_name FROM movies where year_of_release = 2006")

myresult = mycursor.fetchall()

for x in myresult:
  print(x[0])
